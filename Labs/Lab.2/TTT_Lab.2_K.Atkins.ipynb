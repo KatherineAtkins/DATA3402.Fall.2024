{
 "cells": [
  {
   "cell_type": "markdown",
   "metadata": {},
   "source": [
    "## Lab 2- Tic Tac Toe\n",
    "\n",
    "### Katherine Atkins\n",
    "### 1001917375\n",
    "\n",
    "In this lab your will build a n x n Tic Tac Toe game. As you do the exercises, make sure your solutions work for any size Tic Tac Toe game. "
   ]
  },
  {
   "cell_type": "markdown",
   "metadata": {},
   "source": [
    "*Exercise 1:* Write a function that creates an n by n matrix (of list of lists) which will represent the state of a Tie Tac Toe game. Let 0, 1, and 2 represent empty, \"X\", and \"O\", respectively.\n"
   ]
  },
  {
   "cell_type": "code",
   "execution_count": 1,
   "metadata": {},
   "outputs": [],
   "source": [
    "import numpy as np"
   ]
  },
  {
   "cell_type": "code",
   "execution_count": 2,
   "metadata": {},
   "outputs": [],
   "source": [
    "# Write you solution here\n",
    "def create_board(n):\n",
    "    return [[0 for _ in range(n)] for _ in range(n)]\n"
   ]
  },
  {
   "cell_type": "code",
   "execution_count": 3,
   "metadata": {},
   "outputs": [
    {
     "name": "stdout",
     "output_type": "stream",
     "text": [
      "[[0, 0, 0], [0, 0, 0], [0, 0, 0]]\n"
     ]
    }
   ],
   "source": [
    "# Test your solution here\n",
    "print(create_board(3))\n"
   ]
  },
  {
   "cell_type": "markdown",
   "metadata": {},
   "source": [
    "*Exercise 2:* Write a function that takes 2 integers `n` and `m` as input and draws a `n` by `m` game board. For example the following is a 3x3 board:\n",
    "```\n",
    "   --- --- --- \n",
    "  |   |   |   | \n",
    "   --- --- ---  \n",
    "  |   |   |   | \n",
    "   --- --- ---  \n",
    "  |   |   |   | \n",
    "   --- --- --- \n",
    "   ```"
   ]
  },
  {
   "cell_type": "code",
   "execution_count": 4,
   "metadata": {},
   "outputs": [],
   "source": [
    "def draw_board(n, m):\n",
    "    print(' --- ' * m)\n",
    "    for _ in range(n):\n",
    "        print('|' + '   | ' * m)\n",
    "        print(' --- ' * m)"
   ]
  },
  {
   "cell_type": "code",
   "execution_count": 5,
   "metadata": {},
   "outputs": [
    {
     "name": "stdout",
     "output_type": "stream",
     "text": [
      " ---  ---  --- \n",
      "|   |    |    | \n",
      " ---  ---  --- \n",
      "|   |    |    | \n",
      " ---  ---  --- \n",
      "|   |    |    | \n",
      " ---  ---  --- \n"
     ]
    }
   ],
   "source": [
    "# Test your solution here\n",
    "\n",
    "draw_board(3, 3)"
   ]
  },
  {
   "cell_type": "markdown",
   "metadata": {},
   "source": [
    "*Exercise 3:* Modify exercise 2, so that it takes a matrix of the form from exercise 1 and draws a tic-tac-tie board with \"X\"s and \"O\"s.  "
   ]
  },
  {
   "cell_type": "code",
   "execution_count": 6,
   "metadata": {},
   "outputs": [],
   "source": [
    "# Write you solution here\n",
    "\n",
    "def draw_board_with_marks(board):\n",
    "    n = len(board)\n",
    "    print('+'.join(['---'] * n) + '+')\n",
    "    for row in board:\n",
    "        row_str = '|'\n",
    "        for cell in row:\n",
    "            if cell == 1:\n",
    "                row_str += 'X | '\n",
    "            elif cell == 2:\n",
    "                row_str += 'O | '\n",
    "            else:\n",
    "                row_str += '  | '\n",
    "        print(row_str)\n",
    "        print('+'.join(['---'] * n) + '+')\n"
   ]
  },
  {
   "cell_type": "code",
   "execution_count": 7,
   "metadata": {},
   "outputs": [
    {
     "name": "stdout",
     "output_type": "stream",
     "text": [
      "---+---+---+\n",
      "|X | O | O | \n",
      "---+---+---+\n",
      "|  | X |   | \n",
      "---+---+---+\n",
      "|O | X |   | \n",
      "---+---+---+\n"
     ]
    }
   ],
   "source": [
    "# Test your solution here\n",
    "\n",
    "#board = [[0,0,0], [0,0,0], [0,0,0]] #testing for the spacing\n",
    "#board = [[1,1,1], [1,1,1], [1,1,1]]\n",
    "#board = [[2,2,2], [2,2,2], [2,2,2]]\n",
    "board = [[1,2,2], [0,1,0], [2,1,0]]\n",
    "draw_board_with_marks(board)\n"
   ]
  },
  {
   "cell_type": "markdown",
   "metadata": {},
   "source": [
    "*Exercise 4:* Write a function that takes a `n` by `n` matrix representing a tic-tac-toe game, and returns -1, 0, 1, or 2 indicating the game is incomplete, the game is a draw, player 1 has won, or player 2 has one, respectively. Here are some example inputs you can use to test your code:"
   ]
  },
  {
   "cell_type": "code",
   "execution_count": 8,
   "metadata": {},
   "outputs": [],
   "source": [
    "# Write you solution here\n",
    "def game_status(board):\n",
    "    n = len(board)\n",
    "\n",
    "    def check_winner(player):\n",
    "        for i in range(n):\n",
    "            if all(board[i][j] == player for j in range(n)) or all(board[j][i] == player for j in range(n)):\n",
    "                return True\n",
    "        # diagonals for both ways\n",
    "        if all(board[i][i] == player for i in range(n)) or all(board[i][n - 1 - i] == player for i in range(n)):\n",
    "            return True\n",
    "        return False\n",
    "\n",
    "    if check_winner(1):\n",
    "        return 1 #player 1\n",
    "    if check_winner(2):\n",
    "        return 2 #player 2\n",
    "    if any(0 in row for row in board):\n",
    "        return -1  # oncomplete\n",
    "    return 0  #draw"
   ]
  },
  {
   "cell_type": "code",
   "execution_count": 9,
   "metadata": {},
   "outputs": [
    {
     "name": "stdout",
     "output_type": "stream",
     "text": [
      "2\n",
      "1\n",
      "1\n",
      "-1\n",
      "-1\n"
     ]
    }
   ],
   "source": [
    "winner_is_2 = [[2, 2, 0],\n",
    "\t[2, 1, 0],\n",
    "\t[2, 1, 1]]\n",
    "\n",
    "winner_is_1 = [[1, 2, 0],\n",
    "\t[2, 1, 0],\n",
    "\t[2, 1, 1]]\n",
    "\n",
    "winner_is_also_1 = [[0, 1, 0],\n",
    "\t[2, 1, 0],\n",
    "\t[2, 1, 1]]\n",
    "\n",
    "no_winner = [[1, 2, 0],\n",
    "\t[2, 1, 0],\n",
    "\t[2, 1, 2]]\n",
    "\n",
    "also_no_winner = [[1, 2, 0],\n",
    "\t[2, 1, 0],\n",
    "\t[2, 1, 0]]\n",
    "\n",
    "print(game_status(winner_is_2))\n",
    "print(game_status(winner_is_1))\n",
    "print(game_status(winner_is_also_1))\n",
    "print(game_status(no_winner))\n",
    "print(game_status(also_no_winner))"
   ]
  },
  {
   "cell_type": "code",
   "execution_count": 10,
   "metadata": {},
   "outputs": [
    {
     "name": "stdout",
     "output_type": "stream",
     "text": [
      "0\n"
     ]
    }
   ],
   "source": [
    "check_4_draw = [[1, 2, 1], [2, 1, 2], [2, 1, 2]]  # Draw\n",
    "\n",
    "print(game_status(check_4_draw))"
   ]
  },
  {
   "cell_type": "markdown",
   "metadata": {},
   "source": [
    "*Exercise 5:* Write a function that takes a game board, player number, and `(x,y)` coordinates and places \"X\" or \"O\" in the correct location of the game board. Make sure that you only allow filling previously empty locations. Return `True` or `False` to indicate successful placement of \"X\" or \"O\"."
   ]
  },
  {
   "cell_type": "code",
   "execution_count": 11,
   "metadata": {},
   "outputs": [],
   "source": [
    "# Write you solution here\n",
    "def marking_board(board, player, x, y): #where x= row and y=columns\n",
    "    if board[x][y] == 0:\n",
    "        board[x][y] = player\n",
    "        return True\n",
    "    return False"
   ]
  },
  {
   "cell_type": "code",
   "execution_count": 12,
   "metadata": {},
   "outputs": [],
   "source": [
    "# Test your solution here\n",
    "\n",
    "#board = [[0, 0, 0], \n",
    "#         [0, 0, 0], \n",
    "#         [0, 0, 0]]\n",
    "#print(marking_board(board, 1, 1, 1))  # Expected: True\n",
    "#print(board)  # Should show 1 at position (1, 1)\n",
    "#print(marking_board(board, 2, 1, 1))  # Expected: False (cell already taken)\n"
   ]
  },
  {
   "cell_type": "code",
   "execution_count": 13,
   "metadata": {},
   "outputs": [
    {
     "name": "stdout",
     "output_type": "stream",
     "text": [
      "False\n",
      "[[1, 2, 2], [0, 1, 0], [2, 1, 0]]\n",
      "False\n",
      "---+---+---+\n",
      "|X | O | O | \n",
      "---+---+---+\n",
      "|  | X |   | \n",
      "---+---+---+\n",
      "|O | X |   | \n",
      "---+---+---+\n"
     ]
    }
   ],
   "source": [
    "print(marking_board(board, 1, 1, 1))  # Expected: True\n",
    "print(board)  # Should show 1 at position (1, 1)\n",
    "print(marking_board(board, 2, 1, 1))  # Expected: False (cell already taken)\n",
    "\n",
    "draw_board_with_marks(board)"
   ]
  },
  {
   "cell_type": "markdown",
   "metadata": {},
   "source": [
    "*Exercise 6:* Modify Exercise 4 to show column and row labels so that players can specify location using \"A2\" or \"C1\"."
   ]
  },
  {
   "cell_type": "code",
   "execution_count": 14,
   "metadata": {},
   "outputs": [],
   "source": [
    "def label_board(board):\n",
    "    n = len(board)\n",
    "\n",
    "    row_labels = [str(i + 1) for i in range(n)]\n",
    "    column_labels = list(\"ABCDEFGHIJKLMNOPQRSTUVWXYZ\")[:n]\n",
    "    \n",
    "    # Print the column labels\n",
    "    print('   ' + '   '.join(column_labels))\n",
    "    \n",
    "    # Horizontal border\n",
    "    print('  ' + '+'.join(['---'] * n) + '+')\n",
    "    \n",
    "    for i, row in enumerate(board):\n",
    "        row_str = f\"{row_labels[i]} \"\n",
    "        \n",
    "        for cell in row:\n",
    "            if cell == 1:\n",
    "                row_str += '| X '\n",
    "            elif cell == 2:\n",
    "                row_str += '| O '\n",
    "            else:\n",
    "                row_str += '|   '\n",
    "        row_str += '|'\n",
    "    \n",
    "        print(row_str)\n",
    "        print('  ' + '+'.join(['---'] * n) + '+')\n",
    "        #Bottom border\n",
    "\n",
    "  "
   ]
  },
  {
   "cell_type": "code",
   "execution_count": 15,
   "metadata": {},
   "outputs": [
    {
     "name": "stdout",
     "output_type": "stream",
     "text": [
      "   A   B   C\n",
      "  ---+---+---+\n",
      "1 | X |   | O |\n",
      "  ---+---+---+\n",
      "2 | O | X |   |\n",
      "  ---+---+---+\n",
      "3 |   | O | X |\n",
      "  ---+---+---+\n"
     ]
    }
   ],
   "source": [
    "# Testing\n",
    "board = [\n",
    "    [1, 0, 2],\n",
    "    [2, 1, 0],\n",
    "    [0, 2, 1]\n",
    "]\n",
    "\n",
    "label_board(board)"
   ]
  },
  {
   "cell_type": "markdown",
   "metadata": {},
   "source": [
    "*Exercise 7:* Write a function that takes a board, player number, and location specified as in exercise 6 and then calls exercise 5 to correctly modify the board.  "
   ]
  },
  {
   "cell_type": "code",
   "execution_count": 16,
   "metadata": {},
   "outputs": [],
   "source": [
    "def convert_location(location):\n",
    "    col = ord(location[0].upper()) - ord('A')\n",
    "    row = int(location[1:]) - 1\n",
    "    return col, row\n",
    "\n",
    "def update_board(board, player, location):#update the board\n",
    "    col, row = convert_location(location)\n",
    "    \n",
    "    checked_off = marking_board(board, player, col, row)\n",
    "    \n",
    "    if checked_off:\n",
    "        print(f\"Player {player} marked {location}.\")\n",
    "    else:\n",
    "        print(f\"Coult not mark {location}. The cell is already occupied or invalid attempt.\")\n",
    "    \n",
    "    label_board(board) # Print the updated board"
   ]
  },
  {
   "cell_type": "code",
   "execution_count": 17,
   "metadata": {},
   "outputs": [
    {
     "name": "stdout",
     "output_type": "stream",
     "text": [
      "Updated board:\n",
      "Player 1 marked A2.\n",
      "   A   B   C\n",
      "  ---+---+---+\n",
      "1 |   | X |   |\n",
      "  ---+---+---+\n",
      "2 |   |   |   |\n",
      "  ---+---+---+\n",
      "3 |   |   |   |\n",
      "  ---+---+---+\n",
      "Player 2 marked C1.\n",
      "   A   B   C\n",
      "  ---+---+---+\n",
      "1 |   | X |   |\n",
      "  ---+---+---+\n",
      "2 |   |   |   |\n",
      "  ---+---+---+\n",
      "3 | O |   |   |\n",
      "  ---+---+---+\n",
      "Coult not mark C1. The cell is already occupied or invalid attempt.\n",
      "   A   B   C\n",
      "  ---+---+---+\n",
      "1 |   | X |   |\n",
      "  ---+---+---+\n",
      "2 |   |   |   |\n",
      "  ---+---+---+\n",
      "3 | O |   |   |\n",
      "  ---+---+---+\n"
     ]
    }
   ],
   "source": [
    "# Example usage\n",
    "board = [\n",
    "    [0, 0, 0],\n",
    "    [0, 0, 0],\n",
    "    [0, 0, 0]\n",
    "]\n",
    "\n",
    "print(\"Updated board:\")\n",
    "update_board(board, 1, \"A2\")\n",
    "update_board(board, 2, \"C1\")\n",
    "update_board(board, 1, \"C1\")"
   ]
  },
  {
   "cell_type": "markdown",
   "metadata": {},
   "source": [
    "*Exercise 8:* Write a function is called with a board and player number, takes input from the player using python's `input`, and modifies the board using your function from exercise 7. Note that you should keep asking for input until you have gotten a valid input that results in a valid move."
   ]
  },
  {
   "cell_type": "code",
   "execution_count": 18,
   "metadata": {},
   "outputs": [],
   "source": [
    "# Write you solution here\n",
    "def player_input(board):\n",
    "    while True:\n",
    "        location = input(\"Enter your move (column, row): \")\n",
    "        try:\n",
    "            col, row = convert_location(location)\n",
    "            if 0 <= col < len(board) and 0 <= row < len(board) and board[row][col] == 0:\n",
    "                return col, row\n",
    "            else:\n",
    "                print(\"That option is no longer valid.\")\n",
    "        except (IndexError, ValueError):\n",
    "            print(\"Invalid input format. Please use 'A1', 'B2', etc.\")"
   ]
  },
  {
   "cell_type": "code",
   "execution_count": 19,
   "metadata": {},
   "outputs": [
    {
     "name": "stdout",
     "output_type": "stream",
     "text": [
      "Enter your move (column, row): B3\n"
     ]
    },
    {
     "data": {
      "text/plain": [
       "(1, 2)"
      ]
     },
     "execution_count": 19,
     "metadata": {},
     "output_type": "execute_result"
    }
   ],
   "source": [
    "# Test your solution here\n",
    "player_input(board)"
   ]
  },
  {
   "cell_type": "markdown",
   "metadata": {},
   "source": [
    "*Exercise 9:* Use all of the previous exercises to implement a full tic-tac-toe game, where an appropriate board is drawn, 2 players are repeatedly asked for a location coordinates of where they wish to place a mark, and the game status is checked until a player wins or a draw occurs."
   ]
  },
  {
   "cell_type": "code",
   "execution_count": 20,
   "metadata": {},
   "outputs": [],
   "source": [
    "def check_winner(board):\n",
    "    n = len(board)\n",
    "    # Rows\n",
    "    for row in board:\n",
    "        if len(set(row)) == 1 and row[0] != 0:\n",
    "            return row[0]\n",
    "    # Columns\n",
    "    for col in range(n):\n",
    "        column_set = set(board[row][col] for row in range(n))\n",
    "        if len(column_set) == 1 and board[0][col] != 0:\n",
    "            return board[0][col]\n",
    "    # Diagonals\n",
    "    diagonal1 = set(board[i][i] for i in range(n))\n",
    "    if len(diagonal1) == 1 and board[0][0] != 0:\n",
    "        return board[0][0]\n",
    "    \n",
    "    diagonal2 = set(board[i][n - 1 - i] for i in range(n))\n",
    "    if len(diagonal2) == 1 and board[0][n - 1] != 0:\n",
    "        return board[0][n - 1]\n",
    "    \n",
    "    # Check for draw\n",
    "    if all(cell != 0 for row in board for cell in row):\n",
    "        return -1  # Draw\n",
    "    \n",
    "    return 0\n",
    "\n",
    "def play_game(board):\n",
    "    current_player = 1\n",
    "    while True:\n",
    "        print(f\"Player {current_player}'s turn:\")\n",
    "        # Player makes a move\n",
    "        row, col = player_input(board)\n",
    "        update_board(board, current_player, f\"{chr(col + ord('A'))}{row + 1}\")\n",
    "        \n",
    "        # Check game status\n",
    "        status = check_winner(board)\n",
    "        if status == 1:\n",
    "            print(\"Player 1 wins!\")\n",
    "            break\n",
    "        elif status == 2:\n",
    "            print(\"Player 2 wins!\")\n",
    "            break\n",
    "        elif status == -1:\n",
    "            print(\"The game is a draw!\")\n",
    "            break\n",
    "        \n",
    "        # Switch players\n",
    "        current_player = 2 if current_player == 1 else 1"
   ]
  },
  {
   "cell_type": "code",
   "execution_count": 21,
   "metadata": {},
   "outputs": [
    {
     "name": "stdout",
     "output_type": "stream",
     "text": [
      "Black board:\n",
      "   A   B   C\n",
      "  ---+---+---+\n",
      "1 |   |   |   |\n",
      "  ---+---+---+\n",
      "2 |   |   |   |\n",
      "  ---+---+---+\n",
      "3 |   |   |   |\n",
      "  ---+---+---+\n",
      "Player 1's turn:\n",
      "Enter your move (column, row): A3\n",
      "Player 1 marked C1.\n",
      "   A   B   C\n",
      "  ---+---+---+\n",
      "1 |   |   |   |\n",
      "  ---+---+---+\n",
      "2 |   |   |   |\n",
      "  ---+---+---+\n",
      "3 | X |   |   |\n",
      "  ---+---+---+\n",
      "Player 2's turn:\n",
      "Enter your move (column, row): C1\n",
      "Player 2 marked A3.\n",
      "   A   B   C\n",
      "  ---+---+---+\n",
      "1 |   |   | O |\n",
      "  ---+---+---+\n",
      "2 |   |   |   |\n",
      "  ---+---+---+\n",
      "3 | X |   |   |\n",
      "  ---+---+---+\n",
      "Player 1's turn:\n",
      "Enter your move (column, row): C3\n",
      "Player 1 marked C3.\n",
      "   A   B   C\n",
      "  ---+---+---+\n",
      "1 |   |   | O |\n",
      "  ---+---+---+\n",
      "2 |   |   |   |\n",
      "  ---+---+---+\n",
      "3 | X |   | X |\n",
      "  ---+---+---+\n",
      "Player 2's turn:\n",
      "Enter your move (column, row): B3\n",
      "Player 2 marked C2.\n",
      "   A   B   C\n",
      "  ---+---+---+\n",
      "1 |   |   | O |\n",
      "  ---+---+---+\n",
      "2 |   |   |   |\n",
      "  ---+---+---+\n",
      "3 | X | O | X |\n",
      "  ---+---+---+\n",
      "Player 1's turn:\n",
      "Enter your move (column, row): A1\n",
      "Player 1 marked A1.\n",
      "   A   B   C\n",
      "  ---+---+---+\n",
      "1 | X |   | O |\n",
      "  ---+---+---+\n",
      "2 |   |   |   |\n",
      "  ---+---+---+\n",
      "3 | X | O | X |\n",
      "  ---+---+---+\n",
      "Player 2's turn:\n",
      "Enter your move (column, row): B2\n",
      "Player 2 marked B2.\n",
      "   A   B   C\n",
      "  ---+---+---+\n",
      "1 | X |   | O |\n",
      "  ---+---+---+\n",
      "2 |   | O |   |\n",
      "  ---+---+---+\n",
      "3 | X | O | X |\n",
      "  ---+---+---+\n",
      "Player 1's turn:\n",
      "Enter your move (column, row): A2\n",
      "Player 1 marked B1.\n",
      "   A   B   C\n",
      "  ---+---+---+\n",
      "1 | X |   | O |\n",
      "  ---+---+---+\n",
      "2 | X | O |   |\n",
      "  ---+---+---+\n",
      "3 | X | O | X |\n",
      "  ---+---+---+\n",
      "Player 1 wins!\n"
     ]
    }
   ],
   "source": [
    "# Testing\n",
    "size = 3\n",
    "board = [[0] * size for _ in range(size)]\n",
    "\n",
    "print(\"Blank board:\")\n",
    "label_board(board)\n",
    "\n",
    "# Start the game\n",
    "play_game(board)"
   ]
  },
  {
   "cell_type": "markdown",
   "metadata": {},
   "source": [
    "*Exercise 10:* Test that your game works for 5x5 Tic Tac Toe.  "
   ]
  },
  {
   "cell_type": "code",
   "execution_count": 23,
   "metadata": {},
   "outputs": [
    {
     "name": "stdout",
     "output_type": "stream",
     "text": [
      "Blank board:\n",
      "   A   B   C   D   E\n",
      "  ---+---+---+---+---+\n",
      "1 |   |   |   |   |   |\n",
      "  ---+---+---+---+---+\n",
      "2 |   |   |   |   |   |\n",
      "  ---+---+---+---+---+\n",
      "3 |   |   |   |   |   |\n",
      "  ---+---+---+---+---+\n",
      "4 |   |   |   |   |   |\n",
      "  ---+---+---+---+---+\n",
      "5 |   |   |   |   |   |\n",
      "  ---+---+---+---+---+\n",
      "Player 1's turn:\n",
      "Enter your move (column, row): E5\n",
      "Player 1 marked E5.\n",
      "   A   B   C   D   E\n",
      "  ---+---+---+---+---+\n",
      "1 |   |   |   |   |   |\n",
      "  ---+---+---+---+---+\n",
      "2 |   |   |   |   |   |\n",
      "  ---+---+---+---+---+\n",
      "3 |   |   |   |   |   |\n",
      "  ---+---+---+---+---+\n",
      "4 |   |   |   |   |   |\n",
      "  ---+---+---+---+---+\n",
      "5 |   |   |   |   | X |\n",
      "  ---+---+---+---+---+\n",
      "Player 2's turn:\n",
      "Enter your move (column, row): a1\n",
      "Player 2 marked A1.\n",
      "   A   B   C   D   E\n",
      "  ---+---+---+---+---+\n",
      "1 | O |   |   |   |   |\n",
      "  ---+---+---+---+---+\n",
      "2 |   |   |   |   |   |\n",
      "  ---+---+---+---+---+\n",
      "3 |   |   |   |   |   |\n",
      "  ---+---+---+---+---+\n",
      "4 |   |   |   |   |   |\n",
      "  ---+---+---+---+---+\n",
      "5 |   |   |   |   | X |\n",
      "  ---+---+---+---+---+\n",
      "Player 1's turn:\n",
      "Enter your move (column, row): d5\n",
      "Player 1 marked E4.\n",
      "   A   B   C   D   E\n",
      "  ---+---+---+---+---+\n",
      "1 | O |   |   |   |   |\n",
      "  ---+---+---+---+---+\n",
      "2 |   |   |   |   |   |\n",
      "  ---+---+---+---+---+\n",
      "3 |   |   |   |   |   |\n",
      "  ---+---+---+---+---+\n",
      "4 |   |   |   |   |   |\n",
      "  ---+---+---+---+---+\n",
      "5 |   |   |   | X | X |\n",
      "  ---+---+---+---+---+\n",
      "Player 2's turn:\n",
      "Enter your move (column, row): b2\n",
      "Player 2 marked B2.\n",
      "   A   B   C   D   E\n",
      "  ---+---+---+---+---+\n",
      "1 | O |   |   |   |   |\n",
      "  ---+---+---+---+---+\n",
      "2 |   | O |   |   |   |\n",
      "  ---+---+---+---+---+\n",
      "3 |   |   |   |   |   |\n",
      "  ---+---+---+---+---+\n",
      "4 |   |   |   |   |   |\n",
      "  ---+---+---+---+---+\n",
      "5 |   |   |   | X | X |\n",
      "  ---+---+---+---+---+\n",
      "Player 1's turn:\n",
      "Enter your move (column, row): c5\n",
      "Player 1 marked E3.\n",
      "   A   B   C   D   E\n",
      "  ---+---+---+---+---+\n",
      "1 | O |   |   |   |   |\n",
      "  ---+---+---+---+---+\n",
      "2 |   | O |   |   |   |\n",
      "  ---+---+---+---+---+\n",
      "3 |   |   |   |   |   |\n",
      "  ---+---+---+---+---+\n",
      "4 |   |   |   |   |   |\n",
      "  ---+---+---+---+---+\n",
      "5 |   |   | X | X | X |\n",
      "  ---+---+---+---+---+\n",
      "Player 2's turn:\n",
      "Enter your move (column, row): c3\n",
      "Player 2 marked C3.\n",
      "   A   B   C   D   E\n",
      "  ---+---+---+---+---+\n",
      "1 | O |   |   |   |   |\n",
      "  ---+---+---+---+---+\n",
      "2 |   | O |   |   |   |\n",
      "  ---+---+---+---+---+\n",
      "3 |   |   | O |   |   |\n",
      "  ---+---+---+---+---+\n",
      "4 |   |   |   |   |   |\n",
      "  ---+---+---+---+---+\n",
      "5 |   |   | X | X | X |\n",
      "  ---+---+---+---+---+\n",
      "Player 1's turn:\n",
      "Enter your move (column, row): b5\n",
      "Player 1 marked E2.\n",
      "   A   B   C   D   E\n",
      "  ---+---+---+---+---+\n",
      "1 | O |   |   |   |   |\n",
      "  ---+---+---+---+---+\n",
      "2 |   | O |   |   |   |\n",
      "  ---+---+---+---+---+\n",
      "3 |   |   | O |   |   |\n",
      "  ---+---+---+---+---+\n",
      "4 |   |   |   |   |   |\n",
      "  ---+---+---+---+---+\n",
      "5 |   | X | X | X | X |\n",
      "  ---+---+---+---+---+\n",
      "Player 2's turn:\n",
      "Enter your move (column, row): d4\n",
      "Player 2 marked D4.\n",
      "   A   B   C   D   E\n",
      "  ---+---+---+---+---+\n",
      "1 | O |   |   |   |   |\n",
      "  ---+---+---+---+---+\n",
      "2 |   | O |   |   |   |\n",
      "  ---+---+---+---+---+\n",
      "3 |   |   | O |   |   |\n",
      "  ---+---+---+---+---+\n",
      "4 |   |   |   | O |   |\n",
      "  ---+---+---+---+---+\n",
      "5 |   | X | X | X | X |\n",
      "  ---+---+---+---+---+\n",
      "Player 1's turn:\n",
      "Enter your move (column, row): a5\n",
      "Player 1 marked E1.\n",
      "   A   B   C   D   E\n",
      "  ---+---+---+---+---+\n",
      "1 | O |   |   |   |   |\n",
      "  ---+---+---+---+---+\n",
      "2 |   | O |   |   |   |\n",
      "  ---+---+---+---+---+\n",
      "3 |   |   | O |   |   |\n",
      "  ---+---+---+---+---+\n",
      "4 |   |   |   | O |   |\n",
      "  ---+---+---+---+---+\n",
      "5 | X | X | X | X | X |\n",
      "  ---+---+---+---+---+\n",
      "Player 1 wins!\n"
     ]
    }
   ],
   "source": [
    "# Test your solution here\n",
    "size = 5\n",
    "board = [[0] * size for _ in range(size)]\n",
    "\n",
    "print(\"Blank board:\")\n",
    "label_board(board)\n",
    "\n",
    "# Start the game\n",
    "play_game(board)"
   ]
  },
  {
   "cell_type": "markdown",
   "metadata": {},
   "source": [
    "*Exercise 11:* (Advanced / Challenge) Develop a version of the game where one player is the computer. Note that you don't need to do an extensive seach for the best move. You can have the computer simply protect against loosing and otherwise try to win with straight or diagonal patterns."
   ]
  },
  {
   "cell_type": "code",
   "execution_count": 26,
   "metadata": {},
   "outputs": [],
   "source": [
    "# Write you solution here\n",
    "\n",
    "import random\n",
    "#i want th e cpu to have completely random choices\n",
    "\n",
    "def cpu(board):\n",
    "    empty_positions = [(r, c) for r in range(len(board)) for c in range(len(board)) if board[r][c] == 0]\n",
    "    if empty_positions:\n",
    "        return random.choice(empty_positions)\n",
    "    return None\n",
    "\n",
    "def play_game(board):\n",
    "    current_player = 1\n",
    "    while True:\n",
    "        if current_player == 1:\n",
    "            print(f\"Player {current_player}'s turn:\")\n",
    "            col, row = player_input(board)\n",
    "            update_board(board, current_player, f\"{chr(col + ord('A'))}{row + 1}\")\n",
    "        else:\n",
    "            print(\"Computer's turn:\")\n",
    "            move = cpu(board)\n",
    "            if move:\n",
    "                col, row = move\n",
    "                update_board(board, current_player, f\"{chr(col + ord('A'))}{row + 1}\")\n",
    "            else:\n",
    "                print(\"No valid moves left for the computer.\")\n",
    "                break\n",
    "        \n",
    "        # Check game\n",
    "        status = check_winner(board)\n",
    "        if status == 1:\n",
    "            print(\"\\nPlayer 1 wins!\")\n",
    "            break\n",
    "        elif status == 2:\n",
    "            print(\"\\nComputer wins!\")\n",
    "            break\n",
    "        elif status == -1:\n",
    "            print(\"\\nThe game is a draw!\")\n",
    "            break\n",
    "        \n",
    "        # Switch players\n",
    "        current_player = 2 if current_player == 1 else 1"
   ]
  },
  {
   "cell_type": "code",
   "execution_count": 27,
   "metadata": {},
   "outputs": [
    {
     "name": "stdout",
     "output_type": "stream",
     "text": [
      "Blank board:\n",
      "   A   B   C\n",
      "  ---+---+---+\n",
      "1 |   |   |   |\n",
      "  ---+---+---+\n",
      "2 |   |   |   |\n",
      "  ---+---+---+\n",
      "3 |   |   |   |\n",
      "  ---+---+---+\n",
      "Player 1's turn:\n",
      "Enter your move (column, row): A!\n",
      "Invalid input format. Please use 'A1', 'B2', etc.\n",
      "Enter your move (column, row): A1\n",
      "Player 1 marked A1.\n",
      "   A   B   C\n",
      "  ---+---+---+\n",
      "1 | X |   |   |\n",
      "  ---+---+---+\n",
      "2 |   |   |   |\n",
      "  ---+---+---+\n",
      "3 |   |   |   |\n",
      "  ---+---+---+\n",
      "Computer's turn:\n",
      "Player 2 marked A3.\n",
      "   A   B   C\n",
      "  ---+---+---+\n",
      "1 | X |   | O |\n",
      "  ---+---+---+\n",
      "2 |   |   |   |\n",
      "  ---+---+---+\n",
      "3 |   |   |   |\n",
      "  ---+---+---+\n",
      "Player 1's turn:\n",
      "Enter your move (column, row): a2\n",
      "Player 1 marked A2.\n",
      "   A   B   C\n",
      "  ---+---+---+\n",
      "1 | X | X | O |\n",
      "  ---+---+---+\n",
      "2 |   |   |   |\n",
      "  ---+---+---+\n",
      "3 |   |   |   |\n",
      "  ---+---+---+\n",
      "Computer's turn:\n",
      "Player 2 marked B1.\n",
      "   A   B   C\n",
      "  ---+---+---+\n",
      "1 | X | X | O |\n",
      "  ---+---+---+\n",
      "2 | O |   |   |\n",
      "  ---+---+---+\n",
      "3 |   |   |   |\n",
      "  ---+---+---+\n",
      "Player 1's turn:\n",
      "Enter your move (column, row): b3\n",
      "Player 1 marked B3.\n",
      "   A   B   C\n",
      "  ---+---+---+\n",
      "1 | X | X | O |\n",
      "  ---+---+---+\n",
      "2 | O |   | X |\n",
      "  ---+---+---+\n",
      "3 |   |   |   |\n",
      "  ---+---+---+\n",
      "Computer's turn:\n",
      "Player 2 marked C1.\n",
      "   A   B   C\n",
      "  ---+---+---+\n",
      "1 | X | X | O |\n",
      "  ---+---+---+\n",
      "2 | O |   | X |\n",
      "  ---+---+---+\n",
      "3 | O |   |   |\n",
      "  ---+---+---+\n",
      "Player 1's turn:\n",
      "Enter your move (column, row): b2\n",
      "Player 1 marked B2.\n",
      "   A   B   C\n",
      "  ---+---+---+\n",
      "1 | X | X | O |\n",
      "  ---+---+---+\n",
      "2 | O | X | X |\n",
      "  ---+---+---+\n",
      "3 | O |   |   |\n",
      "  ---+---+---+\n",
      "Computer's turn:\n",
      "Player 2 marked C2.\n",
      "   A   B   C\n",
      "  ---+---+---+\n",
      "1 | X | X | O |\n",
      "  ---+---+---+\n",
      "2 | O | X | X |\n",
      "  ---+---+---+\n",
      "3 | O | O |   |\n",
      "  ---+---+---+\n",
      "Player 1's turn:\n",
      "Enter your move (column, row): c3\n",
      "Player 1 marked C3.\n",
      "   A   B   C\n",
      "  ---+---+---+\n",
      "1 | X | X | O |\n",
      "  ---+---+---+\n",
      "2 | O | X | X |\n",
      "  ---+---+---+\n",
      "3 | O | O | X |\n",
      "  ---+---+---+\n",
      "\n",
      "Player 1 wins!\n"
     ]
    }
   ],
   "source": [
    "#Test\n",
    "\n",
    "size = 3\n",
    "board = [[0] * size for _ in range(size)]\n",
    "\n",
    "print(\"Blank board:\")\n",
    "label_board(board)\n",
    "\n",
    "# Start the game\n",
    "play_game(board)"
   ]
  },
  {
   "cell_type": "code",
   "execution_count": null,
   "metadata": {},
   "outputs": [],
   "source": []
  },
  {
   "cell_type": "code",
   "execution_count": null,
   "metadata": {},
   "outputs": [],
   "source": []
  }
 ],
 "metadata": {
  "kernelspec": {
   "display_name": "Python 3 (ipykernel)",
   "language": "python",
   "name": "python3"
  },
  "language_info": {
   "codemirror_mode": {
    "name": "ipython",
    "version": 3
   },
   "file_extension": ".py",
   "mimetype": "text/x-python",
   "name": "python",
   "nbconvert_exporter": "python",
   "pygments_lexer": "ipython3",
   "version": "3.11.5"
  }
 },
 "nbformat": 4,
 "nbformat_minor": 2
}
