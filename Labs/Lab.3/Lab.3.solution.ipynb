{
 "cells": [
  {
   "cell_type": "markdown",
   "metadata": {},
   "source": [
    "# Lab 3\n",
    "\n",
    "Katherine Atkins\n",
    "1001917375\n",
    "\n",
    "In this lab we will become familiar with distributions, histograms, and functional programming. Do not use numpy or any other library for this lab.\n",
    "\n",
    "Before that, lets get setup homework submission and submit your previous lab.  \n",
    "\n",
    "## Working on the Command-line.\n",
    "\n",
    "It is important for you to learn to work on the command line and to be familiar with the Unix environment (e.g. Linux, Mac OS, or Windows Linux Subsystem). We'll go over working on the command-line in detail later in the course.\n",
    "\n",
    "You are required to submit your work in this course via GitHub. Today in class, you will setup everything on the command-line.\n",
    "\n",
    "### Command-line basics\n",
    "\n",
    "There is plenty of material online that will help you figure out how to do various tasks on the command line. Commands you may need to know today:\n",
    "\n",
    "* `ls`: lists the contents of the current directory.\n",
    "* `pwd`: prints the path of the current directory.\n",
    "* `cd <directory>`: changes your current directory to the specified directory.\n",
    "* `cd ..`: changes current directory to the previous directory. Basically steps out of the current directory to the directory containing the current directory.\n",
    "* `mkdir <directory>`: create a new directory with the specified name.\n",
    "* `rmdir <directory>`: removes the specified directory. Note it has to be empty.\n",
    "* `rm <filename>`: deletes the specified file.\n",
    "* `mv <filename 1> <filename 1>`: Moves or renames a file.\n",
    "* `cp <filename 1> <filename 2>`: copies an file. If you just provide a path to a directory, it copies the file into that directory with the same filename. If you specifiy a new filename, the copy has a new name. For example `cp File.1.txt File.2.txt` creates a copy of `File.1.txt` with the name `File.2.txt`. Meanwhile `cp File.1.txt my_directory`, where `my_directory` is a directory, creates a copy of `File.1.txt` in directory `my_directory` with the name `File.1.txt`.\n",
    "\n",
    "For reference, here are some example resources I found by googling:\n",
    "\n",
    "* Paths and Wildcards: https://www.warp.dev/terminus/linux-wildcards\n",
    "* Basic commands like copy: https://kb.iu.edu/d/afsk\n",
    "* General introduction to shell: https://github-pages.ucl.ac.uk/RCPSTrainingMaterials/HPCandHTCusingLegion/2_intro_to_shell.html\n",
    "* Manual pages: https://www.geeksforgeeks.org/linux-man-page-entries-different-types/?ref=ml_lbp\n",
    "* Chaining commands: https://www.geeksforgeeks.org/chaining-commands-in-linux/?ref=ml_lbp\n",
    "* Piping: https://www.geeksforgeeks.org/piping-in-unix-or-linux/\n",
    "* Using sed: https://www.geeksforgeeks.org/sed-command-linux-set-2/?ref=ml_lbp\n",
    "* Various Unix commands: https://www.geeksforgeeks.org/linux-commands/?ref=lbp\n",
    "* Cheat sheets:\n",
    "    * https://www.stationx.net/unix-commands-cheat-sheet/\n",
    "    * https://cheatography.com/davechild/cheat-sheets/linux-command-line/\n",
    "    * https://www.theknowledgeacademy.com/blog/unix-commands-cheat-sheet/\n",
    "    \n",
    "These aren't necessarily the best resources. Feel free to search for better ones. Also, don't forget that Unix has built-in manual pages for all of its commands. Just type `man <command>` at the command prompt. Use the space-bar to scroll through the documentation and \"q\" to exit.\n",
    "\n",
    "\n",
    "### Setup and Submission\n",
    "\n",
    "Our course repository is public. The instructions here aim to have you setup a fork of the course repository. Unfortunately because you are forking a public repo, your fork will have to be public also. \n",
    "\n",
    "You should be familiar with git from the first semester of this course. I assume that you all have github accounts and have setup things to be able to [push to github using ssh](https://docs.github.com/en/github/authenticating-to-github/connecting-to-github-with-ssh). The instuctions here lead you to:\n",
    "\n",
    "We'll overview what you will do before going through step by step instructions.\n",
    "\n",
    "1. Setup:\n",
    "    1. Fork the class repository. Some directions in [fork-a-repo](https://docs.github.com/en/github/getting-started-with-github/fork-a-repo).\n",
    "    1. Create a directory on your personal system where you will keep all course materials.\n",
    "    1. In that directory, clone your fork of the repository.\n",
    "    1. Using `git remote`, set the upstream to be the class repo, so you can pull from the class and push to your fork.\n",
    "\n",
    "1. Submission:\n",
    "    1. Copy your solutions into the appropriate directory (e.g. into `Labs/Lab.2/`) and with appropriate filename `Lab.2.solution.ipynb'.\n",
    "    1. Commit / push your solutions.\n",
    "    1. Grant access to course instructors.\n",
    "\n",
    "Below are step by step instructions with examples (including example directory naming convention). Feel free to modify things as you see fit. \n",
    "\n",
    "#### Setup\n",
    "You should only need to follow this instructions once. Here are some useful git commands:\n",
    "\n",
    "* Git help: `git help`\n",
    "* Git remote help: `git help remote`\n",
    "* Check remote status: `git remote -v`\n",
    "* Add a remote: `git remote add <stream name> <repo URL>`\n",
    "* Add a remove: `git remote remove <stream name>`\n",
    "\n",
    "Steps:\n",
    "1. In a browser, log into GitHub and navigate to the [course repository](https://github.com/UTA-DataScience/DATA3402.Fall.2024).\n",
    "1. On the top right of the page, press the fork button to create a new fork into your own GitHub account.\n",
    "1. After successful fork, you should find the browser showing your fork of the course repository. Use the green \"Code\" button to copy path to the repo into your the clipboard of your computer.\n",
    "1. Open a shell on your personal computer.\n",
    "1. If you have not done so already, create a new directory/folder where you will keep all course material to navigate to it. For example: `mkdir Data-3402` and `cd Data-3402`.\n",
    "1. Clone your fork of the repository using `git clone` followed by the path you copied into your clipboard. (copy/paste)\n",
    "1. Paste the URL to your fork in the worksheet for the TAs and instructors.\n",
    "1. Now go into the directory of your clone (`cd DATA3402.Fall.2024`).\n",
    "1. Type `git remote -v` to see the current setup for fetch and pull.\n",
    "1. Note the URL you see. This should be the same as what you used for your clone for both push and fetch.\n",
    "1. Delete the origin remote using `git remote remove origin`.\n",
    "1. Add the course repo as your remote using `git remote add origin https://github.com/UTA-DataScience/DATA3402.Fall.2024.git`.\n",
    "1. Change the push to point to your fork. This means you will need the URL to your clone we copied earlier and confirmed as the original origin. The command will look something like: `git remote set-url --push origin  https://github.com/XXXXXX/DATA3402.Fall.2024.git`, where XXXXX is your username on GitHub.\n",
    "1. Note that if you setup everything correctly, you now should be able to do `git pull` to get updates from the course repo, and do `git push` to push your commits into your own fork.\n",
    "\n",
    "### Submission\n",
    "These instructions outline how you submit files. Some useful commands:\n",
    "* To add a file to local repository: `git add <file>`.\n",
    "* To commit all changed files into local repository: `git -a -m \"A message\"`. You need to provide some comment when you commit. \n",
    "* To push the commited files from the local repository to GitHub: `git push`.\n",
    "* To get updates from GitHub: `git pull`.\n",
    "\n",
    "Steps:\n",
    "1. To submit your labs, navigate to your clone of your fork of the course repository. \n",
    "1. Use `git pull` to make sure you have the latest updates. \n",
    "1. Make sure your copy of the lab your are working on is in the appropriate place in this clone. That means if you have the file elsewhere, copy it to the same directory in your clone of your fork. \n",
    "1. Note that in order to avoid future conflicts, you should always name your solution differently than the original file in the class repo. For example if your file is still named `Lab.2.ipynb` you should rename it using the `mv` command: `mv Lab.2.ipynb Lab.2.solution.ipynb`. \n",
    "1. Add and files you wish to submit into the repo. For example: `git add Labs/Lab.2/Lab.2.solution.ipynb`\n",
    "1. Commit any changes: `git commit -a -m \"Lab 2 updates\"`\n",
    "1. Push your changes: `git push`\n",
    "1. Check on github website that your solutions have been properly submitted.\n",
    "\n",
    "Before you leave the session today, submit your Lab.2 solution as is now to make sure you can do it. If you need to work further on your lab, navigate jupyter to the copy of the lab you just submitted and work there. Once done, repeat the commit and push commands to submit your updated solution. Note that lab 2 is due by midnight Monday  9/8/2024.\n"
   ]
  },
  {
   "cell_type": "markdown",
   "metadata": {},
   "source": [
    "### Uniform Distribution\n",
    "Lets start with generating some fake random data. You can get a random number between 0 and 1 using the python random module as follow:"
   ]
  },
  {
   "cell_type": "code",
   "execution_count": 1,
   "metadata": {},
   "outputs": [
    {
     "name": "stdout",
     "output_type": "stream",
     "text": [
      "The Value of x is 0.6127475031312778\n"
     ]
    }
   ],
   "source": [
    "import random\n",
    "x=random.random()\n",
    "print(\"The Value of x is\", x)"
   ]
  },
  {
   "cell_type": "markdown",
   "metadata": {},
   "source": [
    "Everytime you call random, you will get a new number.\n",
    "\n",
    "*Exercise 1:* Using random, write a function `generate_uniform(N, mymin, mymax)`, that returns a python list containing N random numbers between specified minimum and maximum value. Note that you may want to quickly work out on paper how to turn numbers between 0 and 1 to between other values. "
   ]
  },
  {
   "cell_type": "code",
   "execution_count": 2,
   "metadata": {},
   "outputs": [],
   "source": [
    "# Skeleton\n",
    "def generate_uniform(N,x_min,x_max):\n",
    "    out = []\n",
    "    ### BEGIN SOLUTION\n",
    "    for _ in range(N):\n",
    "        x =random.random()\n",
    "        x_scaled = x * (x_max - x_min) + x_min\n",
    "        out.append(x_scaled)\n",
    "    \n",
    "    ### END SOLUTION\n",
    "    return out"
   ]
  },
  {
   "cell_type": "code",
   "execution_count": 3,
   "metadata": {},
   "outputs": [
    {
     "name": "stdout",
     "output_type": "stream",
     "text": [
      "Data Type: <class 'list'>\n",
      "Data Length: 1000\n",
      "Type of Data Contents: <class 'float'>\n",
      "Data Minimum: -9.965709643263486\n",
      "Data Maximum: 9.984953432348625\n"
     ]
    }
   ],
   "source": [
    "# Test your solution here\n",
    "data=generate_uniform(1000,-10,10)\n",
    "print (\"Data Type:\", type(data))\n",
    "print (\"Data Length:\", len(data))\n",
    "if len(data)>0: \n",
    "    print (\"Type of Data Contents:\", type(data[0]))\n",
    "    print (\"Data Minimum:\", min(data))\n",
    "    print (\"Data Maximum:\", max(data))"
   ]
  },
  {
   "cell_type": "markdown",
   "metadata": {},
   "source": [
    "*Exercise 2a:* \n",
    "Write a function that computes the mean of values in a list. Recall the equation for the mean of a random variable $\\bf{x}$ computed on a data set of $n$ values $\\{ x_i \\} = \\{x_1, x_2, ..., x_n\\}$  is ${\\bf\\bar{x}} = \\frac{1}{n} \\sum_i^n x_i$."
   ]
  },
  {
   "cell_type": "code",
   "execution_count": 4,
   "metadata": {},
   "outputs": [],
   "source": [
    "# Skeleton\n",
    "def mean(Data):\n",
    "    m=0 #total sum\n",
    "    \n",
    "    ### BEGIN SOLUTION\n",
    "     \n",
    "    if len(Data) == 0:\n",
    "        return 0\n",
    "    \n",
    "    total = sum(Data)\n",
    "        \n",
    "    l = len(Data) #find length\n",
    "    \n",
    "    mean_value = total/l #find mean by diving total sum by length of list    \n",
    "    \n",
    "    ### END SOLUTION\n",
    "    \n",
    "    return mean_value"
   ]
  },
  {
   "cell_type": "code",
   "execution_count": 5,
   "metadata": {},
   "outputs": [
    {
     "name": "stdout",
     "output_type": "stream",
     "text": [
      "Mean of Data: 0.06945018121746706\n"
     ]
    }
   ],
   "source": [
    "# Test your solution here\n",
    "print (\"Mean of Data:\", mean(data))"
   ]
  },
  {
   "cell_type": "markdown",
   "metadata": {},
   "source": [
    "*Exercise 2b:* \n",
    "Write a function that computes the variance of values in a list. Recall the equation for the variance of a random variable $\\bf{x}$ computed on a data set of $n$ values $\\{ x_i \\} = \\{x_1, x_2, ..., x_n\\}$  is ${\\bf\\langle x \\rangle} = \\frac{1}{n} \\sum_i^n (x_i - {\\bf\\bar{x}})$."
   ]
  },
  {
   "cell_type": "code",
   "execution_count": 6,
   "metadata": {},
   "outputs": [],
   "source": [
    "# Skeleton\n",
    "def variance(Data):\n",
    "    m=0\n",
    "    \n",
    "    ### BEGIN SOLUTION\n",
    "    \n",
    "    #use what we had previously to find mean\n",
    "    if len(Data) == 0:\n",
    "        return 0\n",
    "    \n",
    "    total = sum(Data)\n",
    "        \n",
    "    l = len(Data) #find length\n",
    "    \n",
    "    mean_value = total/l    \n",
    "    \n",
    "    #sum of squared differences\n",
    "    diff_squared = sum((x - mean_value)** 2 for x in Data)\n",
    "    m = diff_squared/len(Data)\n",
    "    \n",
    "    ### END SOLUTION\n",
    "    return m"
   ]
  },
  {
   "cell_type": "code",
   "execution_count": 7,
   "metadata": {},
   "outputs": [
    {
     "name": "stdout",
     "output_type": "stream",
     "text": [
      "Variance of Data: 32.961463691526035\n"
     ]
    }
   ],
   "source": [
    "# Test your solution here\n",
    "print (\"Variance of Data:\", variance(data))"
   ]
  },
  {
   "cell_type": "markdown",
   "metadata": {},
   "source": [
    "## Histogramming"
   ]
  },
  {
   "cell_type": "markdown",
   "metadata": {},
   "source": [
    "*Exercise 3:* Write a function that bins the data so that you can create a histogram. An example of how to implement histogramming is the following logic:\n",
    "\n",
    "* User inputs a list of values `x` and optionally `n_bins` which defaults to 10.\n",
    "* If not supplied, find the minimum and maximum (`x_min`,`x_max`) of the values in x.\n",
    "* Determine the bin size (`bin_size`) by dividing the range of the function by the number of bins.\n",
    "* Create an empty list of zeros of size `n_bins`, call it `hist`.\n",
    "* Loop over the values in `x`\n",
    "    * Loop over the values in `hist` with index `i`:\n",
    "        * If x is between `x_min+i*bin_size` and `x_min+(i+1)*bin_size`, increment `hist[i].` \n",
    "        * For efficiency, try to use continue to goto the next bin and data point.\n",
    "* Return `hist` and the list corresponding of the bin edges (i.e. of `x_min+i*bin_size`).    "
   ]
  },
  {
   "cell_type": "code",
   "execution_count": 8,
   "metadata": {},
   "outputs": [],
   "source": [
    "# Solution\n",
    "def histogram(x,n_bins=10,x_min=None,x_max=None):\n",
    "    ### BEGIN SOLUTION\n",
    "    if x_min is None:\n",
    "        x_min = min(x)\n",
    "    if x_max is None:\n",
    "        x_max = max(x)\n",
    "        \n",
    "    #bin_size\n",
    "    bin_size = (x_max-x_min)/n_bins\n",
    "    #empty list of zeros of size n_bins\n",
    "    hist = [0] * n_bins\n",
    "    bin_edges = [x_min + i * bin_size for i in range(n_bins + 1)]\n",
    "    \n",
    "    #Loop over the values in x\n",
    "    for value in x:\n",
    "        for i in range(n_bins):\n",
    "            if x_min + i * bin_size <= value < x_min + (i+1) * bin_size:\n",
    "                hist[i] += 1\n",
    "                break \n",
    "        \n",
    "    ### END SOLUTION\n",
    "\n",
    "    return hist,bin_edges"
   ]
  },
  {
   "cell_type": "code",
   "execution_count": 9,
   "metadata": {},
   "outputs": [
    {
     "name": "stdout",
     "output_type": "stream",
     "text": [
      "[8, 12, 7, 12, 8, 7, 8, 14, 8, 9, 9, 9, 7, 11, 9, 6, 11, 12, 13, 6, 11, 4, 13, 12, 14, 6, 14, 19, 11, 12, 8, 7, 13, 8, 14, 13, 13, 14, 10, 14, 9, 5, 9, 4, 14, 10, 11, 10, 10, 8, 7, 6, 15, 10, 11, 3, 9, 9, 12, 11, 10, 9, 8, 6, 11, 5, 16, 13, 11, 9, 5, 11, 6, 9, 13, 10, 10, 13, 21, 11, 12, 7, 7, 7, 9, 10, 12, 9, 10, 9, 9, 14, 4, 6, 5, 11, 15, 13, 11, 14]\n"
     ]
    }
   ],
   "source": [
    "# Test your solution here\n",
    "h,b=histogram(data,100)\n",
    "print(h)"
   ]
  },
  {
   "cell_type": "markdown",
   "metadata": {},
   "source": [
    "*Exercise 4:* Write a function that uses the histogram function in the previous exercise to create a text-based \"graph\". For example the output could look like the following:\n",
    "```\n",
    "[  0,  1] : ######\n",
    "[  1,  2] : #####\n",
    "[  2,  3] : ######\n",
    "[  3,  4] : ####\n",
    "[  4,  5] : ####\n",
    "[  5,  6] : ######\n",
    "[  6,  7] : #####\n",
    "[  7,  8] : ######\n",
    "[  8,  9] : ####\n",
    "[  9, 10] : #####\n",
    "```\n",
    "\n",
    "Where each line corresponds to a bin and the number of `#`'s are proportional to the value of the data in the bin. "
   ]
  },
  {
   "cell_type": "code",
   "execution_count": 10,
   "metadata": {},
   "outputs": [],
   "source": [
    "# Solution\n",
    "def draw_histogram(x,n_bins,x_min=None,x_max=None,character=\"#\",max_character_per_line=20):\n",
    "    ### BEGIN SOLUTION\n",
    "    hist, bin_edges = histogram(x,n_bins,x_min, x_max)\n",
    "    count_max = max(hist)\n",
    "    \n",
    "    #create the written graph\n",
    "    for i in range(n_bins):\n",
    "        bin_begin = bin_edges[i]\n",
    "        bin_end =  bin_edges[i+1]\n",
    "        count_reg = hist[i]\n",
    "        # scale th number of character symbols based on the bin count\n",
    "        num_character = int((count_reg / count_max) * max_character_per_line)\n",
    "        print(f\"[{bin_begin:.2f}, {bin_end:.2f}] : {character * num_character}\")\n",
    "    \n",
    "    ### END SOLUTION\n",
    "\n",
    "    return hist,bin_edges"
   ]
  },
  {
   "cell_type": "code",
   "execution_count": 11,
   "metadata": {},
   "outputs": [
    {
     "name": "stdout",
     "output_type": "stream",
     "text": [
      "[-9.97, -8.97] : ##############\n",
      "[-8.97, -7.97] : ##############\n",
      "[-7.97, -6.97] : #############\n",
      "[-6.97, -5.98] : ##############\n",
      "[-5.98, -4.98] : ################\n",
      "[-4.98, -3.98] : ###################\n",
      "[-3.98, -2.98] : ###############\n",
      "[-2.98, -1.99] : ###################\n",
      "[-1.99, -0.99] : ############\n",
      "[-0.99, 0.01] : ###############\n",
      "[0.01, 1.01] : ###############\n",
      "[1.01, 2.00] : #############\n",
      "[2.00, 3.00] : #############\n",
      "[3.00, 4.00] : ################\n",
      "[4.00, 5.00] : #############\n",
      "[5.00, 5.99] : ####################\n",
      "[5.99, 6.99] : ############\n",
      "[6.99, 7.99] : ###############\n",
      "[7.99, 8.99] : ###########\n",
      "[8.99, 9.98] : ###################\n"
     ]
    }
   ],
   "source": [
    "# Test your solution here\n",
    "h,b=draw_histogram(data,20)"
   ]
  },
  {
   "cell_type": "markdown",
   "metadata": {},
   "source": [
    "## This doesn't acurately show the histogram becasue the bases of the symbols/ the colons don't line up :/"
   ]
  },
  {
   "cell_type": "markdown",
   "metadata": {},
   "source": [
    "## Functional Programming\n",
    "\n",
    "*Exercise 5:* Write a function the applies a booling function (that returns true/false) to every element in data, and return a list of indices of elements where the result was true. Use this function to find the indices of entries greater than 0.5. "
   ]
  },
  {
   "cell_type": "code",
   "execution_count": 12,
   "metadata": {},
   "outputs": [],
   "source": [
    "def where(mylist,myfunc):\n",
    "    out= []\n",
    "    \n",
    "    ### BEGIN SOLUTION\n",
    "\n",
    "    for index, value in enumerate(mylist):\n",
    "        if myfunc(value):\n",
    "            out.append(index)\n",
    "    \n",
    "    ### END SOLUTION\n",
    "    \n",
    "    return out"
   ]
  },
  {
   "cell_type": "code",
   "execution_count": 13,
   "metadata": {},
   "outputs": [
    {
     "name": "stdout",
     "output_type": "stream",
     "text": [
      "Indices of entries greater than 0.5: [0, 2, 3, 11, 12, 15, 17, 18, 23, 25, 27, 28, 29, 30, 31, 32, 36, 37, 41, 43, 47, 48, 49, 50, 54, 56, 61, 63, 67, 68, 69, 72, 76, 77, 78, 82, 84, 87, 90, 91, 92, 94, 95, 96, 97, 100, 103, 107, 110, 112, 113, 118, 119, 120, 121, 122, 123, 124, 126, 130, 132, 133, 136, 141, 145, 146, 147, 148, 154, 156, 162, 163, 164, 169, 171, 172, 173, 175, 177, 180, 183, 184, 185, 189, 191, 192, 196, 197, 198, 199, 202, 203, 207, 211, 217, 219, 220, 221, 224, 225, 226, 229, 234, 235, 236, 237, 238, 240, 244, 245, 248, 249, 250, 251, 252, 254, 256, 261, 264, 267, 269, 270, 271, 272, 273, 275, 276, 279, 281, 282, 283, 286, 288, 291, 293, 296, 300, 301, 302, 303, 304, 306, 308, 316, 317, 320, 323, 324, 325, 327, 328, 332, 337, 339, 345, 346, 349, 350, 356, 357, 360, 363, 364, 366, 368, 370, 374, 375, 377, 379, 382, 383, 385, 388, 389, 392, 393, 395, 398, 399, 401, 402, 403, 406, 407, 409, 412, 415, 417, 419, 420, 424, 426, 429, 432, 433, 434, 435, 438, 439, 440, 445, 447, 449, 454, 455, 456, 460, 463, 465, 467, 468, 473, 475, 477, 480, 481, 482, 483, 484, 491, 493, 498, 502, 503, 504, 507, 508, 510, 512, 513, 514, 517, 519, 521, 525, 530, 531, 532, 535, 539, 540, 541, 545, 546, 549, 552, 554, 558, 559, 560, 564, 565, 566, 570, 572, 573, 574, 577, 578, 579, 584, 585, 589, 591, 593, 594, 596, 599, 600, 604, 605, 606, 607, 610, 615, 616, 619, 620, 622, 623, 628, 629, 630, 631, 633, 635, 636, 637, 639, 640, 641, 646, 651, 654, 655, 656, 657, 661, 664, 666, 668, 670, 672, 673, 676, 677, 678, 679, 680, 681, 682, 683, 684, 685, 688, 689, 692, 694, 695, 696, 697, 699, 701, 703, 706, 707, 710, 711, 712, 713, 714, 716, 718, 720, 725, 727, 729, 731, 733, 739, 740, 741, 743, 744, 745, 747, 749, 750, 753, 754, 757, 758, 760, 761, 762, 764, 765, 766, 770, 772, 773, 777, 780, 781, 782, 785, 786, 788, 790, 791, 792, 795, 796, 797, 803, 807, 808, 809, 812, 813, 815, 817, 820, 821, 822, 823, 824, 825, 826, 827, 830, 832, 833, 834, 835, 837, 840, 843, 844, 845, 846, 850, 851, 854, 857, 858, 861, 862, 864, 865, 873, 874, 876, 877, 880, 881, 883, 884, 885, 886, 890, 891, 893, 902, 903, 904, 907, 908, 909, 914, 919, 920, 924, 926, 927, 928, 929, 931, 933, 934, 938, 940, 941, 943, 944, 945, 948, 951, 957, 958, 960, 961, 963, 968, 969, 971, 972, 973, 974, 976, 979, 981, 984, 989, 991, 992, 993, 994, 995, 996, 997, 998, 999]\n"
     ]
    }
   ],
   "source": [
    "# Test your solution here\n",
    "indices = where(data, lambda x: x > 0.5)  #find indices of entireis greater than 0.5\n",
    "print(\"Indices of entries greater than 0.5:\", indices)"
   ]
  },
  {
   "cell_type": "markdown",
   "metadata": {},
   "source": [
    "### Wow, thats of lot of indices!"
   ]
  },
  {
   "cell_type": "markdown",
   "metadata": {},
   "source": [
    "*Exercise 6:* The `inrange(mymin,mymax)` function below returns a function that tests if it's input is between the specified values. Write corresponding functions that test:\n",
    "* Even\n",
    "* Odd\n",
    "* Greater than\n",
    "* Less than\n",
    "* Equal\n",
    "* Divisible by"
   ]
  },
  {
   "cell_type": "code",
   "execution_count": 14,
   "metadata": {},
   "outputs": [
    {
     "name": "stdout",
     "output_type": "stream",
     "text": [
      "True True False False False\n",
      "False False True True False\n",
      "Number of Entries passing F1: 494\n",
      "Number of Entries passing F2: 0\n"
     ]
    }
   ],
   "source": [
    "def in_range(mymin,mymax):\n",
    "    def testrange(x):\n",
    "        return x<mymax and x>=mymin\n",
    "    return testrange\n",
    "\n",
    "# Examples:\n",
    "F1=in_range(0,10)\n",
    "F2=in_range(10,20)\n",
    "\n",
    "# Test of in_range\n",
    "print (F1(0), F1(1), F1(10), F1(15), F1(20))\n",
    "print (F2(0), F2(1), F2(10), F2(15), F2(20))\n",
    "\n",
    "print (\"Number of Entries passing F1:\", len(where(data,F1)))\n",
    "print (\"Number of Entries passing F2:\", len(where(data,F2)))"
   ]
  },
  {
   "cell_type": "code",
   "execution_count": 15,
   "metadata": {},
   "outputs": [],
   "source": [
    "### BEGIN SOLUTION\n",
    "def is_even():\n",
    "    def even_test(x):\n",
    "        return x % 2 == 0\n",
    "    return even_test\n",
    "\n",
    "def is_odd():\n",
    "    def odd_test(x):\n",
    "        return x % 2 != 0\n",
    "    return odd_test\n",
    "\n",
    "def greater_than(myval):\n",
    "    def test_greater(x):\n",
    "        return x > myval\n",
    "    return test_greater\n",
    "\n",
    "def less_than(myval):\n",
    "    def test_less(x):\n",
    "        return x < myval\n",
    "    return test_less\n",
    "\n",
    "def equal_to(myval):\n",
    "    def test_equal(x):\n",
    "        return x == myval\n",
    "    return test_equal\n",
    "\n",
    "def divisible_by(myval):\n",
    "    def test_divisible(x):\n",
    "        return x % myval == 0\n",
    "    return test_divisible\n",
    "    \n",
    "    \n",
    "### END SOLUTION"
   ]
  },
  {
   "cell_type": "code",
   "execution_count": 16,
   "metadata": {},
   "outputs": [
    {
     "name": "stdout",
     "output_type": "stream",
     "text": [
      "True False\n",
      "False True\n",
      "False True\n",
      "True False False\n",
      "False True False\n",
      "False True True\n",
      "Number of Entries Even: 0\n",
      "Number of Entries Odd: 1000\n",
      "Number of Entries Greater than 7: 152\n",
      "Number of Entries Less than 5: 741\n",
      "Number of Entries Equal to 8: 0\n",
      "Number of Entries Divisible by 3: 0\n"
     ]
    }
   ],
   "source": [
    "# Test your solution\n",
    "F3 = is_even()\n",
    "F4 = is_odd()\n",
    "F5 = greater_than(7)\n",
    "F6 = less_than(5)\n",
    "F7 = equal_to(8)\n",
    "F8 = divisible_by(3)\n",
    "\n",
    "print(F3(8), F3(5))  \n",
    "print(F4(6), F4(7))  \n",
    "print(F5(6), F5(8))  \n",
    "print(F6(4), F6(5), F6(6))  \n",
    "print(F7(7), F7(8), F7(9))  \n",
    "print(F8(10), F8(12), F8(15))  \n",
    "\n",
    "\n",
    "print (\"Number of Entries Even:\", len(where(data,F3)))\n",
    "print (\"Number of Entries Odd:\", len(where(data,F4)))\n",
    "print (\"Number of Entries Greater than 7:\", len(where(data,F5)))\n",
    "print (\"Number of Entries Less than 5:\", len(where(data,F6)))\n",
    "print (\"Number of Entries Equal to 8:\", len(where(data,F7)))\n",
    "print (\"Number of Entries Divisible by 3:\", len(where(data,F8)))\n",
    "\n"
   ]
  },
  {
   "cell_type": "markdown",
   "metadata": {},
   "source": [
    "*Exercise 7:* Repeat the previous exercise using `lambda` and the built-in python functions sum and map instead of your solution above. "
   ]
  },
  {
   "cell_type": "code",
   "execution_count": 17,
   "metadata": {
    "scrolled": true
   },
   "outputs": [
    {
     "name": "stdout",
     "output_type": "stream",
     "text": [
      "True True True False False\n",
      "False False False True True\n",
      "True False\n",
      "False True\n",
      "False True\n",
      "False False False\n",
      "False False True\n",
      "True False True\n",
      "Number of Entries in range 0-15: 494\n",
      "Number of Entries in range 15-30: 0\n",
      "Number of Entries Even: 0\n",
      "Number of Entries Odd: 1000\n",
      "Number of Entries Greater than 6: 194\n",
      "Number of Entries Less than 4: 697\n",
      "Number of Entries Equal to 9: 0\n",
      "Number of Entries Divisible by 5: 0\n"
     ]
    }
   ],
   "source": [
    "### BEGIN SOLUTION\n",
    "\n",
    "def is_even():\n",
    "    return lambda x: x % 2 == 0\n",
    "\n",
    "def is_odd():\n",
    "    return lambda x: x % 2 != 0\n",
    "\n",
    "def greater_than(myval):\n",
    "    return lambda x: x > myval\n",
    "\n",
    "def less_than(myval):\n",
    "    return lambda x: x < myval\n",
    "\n",
    "def equal_to(myval):\n",
    "    return lambda x: x == myval\n",
    "\n",
    "def divisible_by(myval):\n",
    "    return lambda x: x % myval == 0\n",
    "\n",
    "def in_range(mymin, mymax):\n",
    "    return lambda x: mymin <= x < mymax\n",
    "    \n",
    "### END SOLUTION\n",
    "\n",
    "F1=in_range(0,15)\n",
    "F2=in_range(15,30)\n",
    "\n",
    "# Test of in_range\n",
    "print (F1(0), F1(1), F1(10), F1(15), F1(20))\n",
    "print (F2(0), F2(1), F2(10), F2(15), F2(20))\n",
    "\n",
    "F3 = is_even()\n",
    "F4 = is_odd()\n",
    "F5 = greater_than(6)\n",
    "F6 = less_than(4)\n",
    "F7 = equal_to(9)\n",
    "F8 = divisible_by(5)\n",
    "\n",
    "print(F3(8), F3(5))  \n",
    "print(F4(6), F4(7))  \n",
    "print(F5(6), F5(8))  \n",
    "print(F6(4), F6(5), F6(6))  \n",
    "print(F7(7), F7(8), F7(9))  \n",
    "print(F8(10), F8(12), F8(15))  \n",
    "\n",
    "print(\"Number of Entries in range 0-15:\", sum(map(F1, data)))\n",
    "print(\"Number of Entries in range 15-30:\", sum(map(F2, data)))\n",
    "print(\"Number of Entries Even:\", sum(map(F3, data)))\n",
    "print(\"Number of Entries Odd:\", sum(map(F4, data)))\n",
    "print(\"Number of Entries Greater than 6:\", sum(map(F5, data)))\n",
    "print(\"Number of Entries Less than 4:\", sum(map(F6, data)))\n",
    "print(\"Number of Entries Equal to 9:\", sum(map(F7, data)))\n",
    "print(\"Number of Entries Divisible by 5:\", sum(map(F8, data)))\n"
   ]
  },
  {
   "cell_type": "markdown",
   "metadata": {},
   "source": [
    "#### I don't know if that worked very well; if it didn't please let me know."
   ]
  },
  {
   "cell_type": "markdown",
   "metadata": {},
   "source": [
    "## Monte Carlo\n",
    "\n",
    "*Exercise 7:* Write a \"generator\" function called `generate_function(func,x_min,x_max,N)`, that instead of generating a flat distribution, generates a distribution with functional form coded in `func`. Note that `func` will always be > 0.  \n",
    "\n",
    "Use the test function below and your histogramming functions above to demonstrate that your generator is working properly.\n",
    "\n",
    "Hint: A simple, but slow, solution is to a draw random number `test_x` within the specified range and another number `p` between the `min` and `max` of the function (which you will have to determine). If `p<=function(test_x)`, then place `test_x` on the output. If not, repeat the process, drawing two new numbers. Repeat until you have the specified number of generated numbers, `N`. For this problem, it's OK to determine the `min` and `max` by numerically sampling the function.  "
   ]
  },
  {
   "cell_type": "code",
   "execution_count": 18,
   "metadata": {},
   "outputs": [],
   "source": [
    "def generate_function(func,x_min,x_max,N=1000):\n",
    "    out = list()\n",
    "    ### BEGIN SOLUTION\n",
    "    x_samples = [x_min + (x_max - x_min) * i / 999 for i in range(1000)]\n",
    "    y_samples = [func(x) for x in x_samples]\n",
    "    y_min = min(y_samples)\n",
    "    y_max = max(y_samples)\n",
    "    \n",
    "    while len(out) < N:\n",
    "        test_x = random.uniform(x_min, x_max)\n",
    "        p = random.uniform(y_min, y_max)\n",
    "\n",
    "        #if p is less than or equal to the func value at test_c\n",
    "        if p <= func(test_x):\n",
    "            out.append(test_x)\n",
    "    \n",
    "    ### END SOLUTION\n",
    "    \n",
    "    return out"
   ]
  },
  {
   "cell_type": "code",
   "execution_count": 22,
   "metadata": {},
   "outputs": [
    {
     "name": "stdout",
     "output_type": "stream",
     "text": [
      "Number of odd samples: 1000\n",
      "Number of samples greater than 5: 398\n",
      "Number of samples equal to 7: 1\n"
     ]
    }
   ],
   "source": [
    "# A test function\n",
    "def test_func(x,a=1,b=1):\n",
    "    return abs(a*x+b)\n",
    "\n",
    "def equal_to(myval, epsilon=1e-2):\n",
    "    return lambda x: abs(x - myval) < epsilon\n",
    "\n",
    "# Parameters for the test\n",
    "x_min = -10\n",
    "x_max = 10\n",
    "N = 1000\n",
    "\n",
    "#generate samples\n",
    "samps = generate_function(test_func, x_min, x_max, N)\n",
    "\n",
    "#filtering functions\n",
    "odd_count = sum(map(is_odd(), samps))\n",
    "greater_than_count = sum(map(greater_than(5), samps))\n",
    "equal_to_count = sum(map(equal_to(7), samps))\n",
    "\n",
    "# Print the results\n",
    "print(\"Number of odd samples:\", odd_count)\n",
    "print(\"Number of samples greater than 5:\", greater_than_count)\n",
    "print(\"Number of samples equal to 7:\", equal_to_count)"
   ]
  },
  {
   "cell_type": "markdown",
   "metadata": {},
   "source": [
    "*Exercise 8:* Use your function to generate 1000 numbers that are normal distributed, using the `gaussian` function below. Confirm the mean and variance of the data is close to the mean and variance you specify when building the Gaussian. Histogram the data. "
   ]
  },
  {
   "cell_type": "code",
   "execution_count": 25,
   "metadata": {},
   "outputs": [],
   "source": [
    "import math\n",
    "\n",
    "def gaussian(mean, sigma):\n",
    "    def f(x):\n",
    "        return math.exp(-((x-mean)**2)/(2*sigma**2))/math.sqrt(math.pi*sigma)\n",
    "    return f\n",
    "\n",
    "# Example Instantiation\n",
    "g1=gaussian(0,1)\n",
    "g2=gaussian(10,3)"
   ]
  },
  {
   "cell_type": "code",
   "execution_count": 26,
   "metadata": {},
   "outputs": [
    {
     "name": "stdout",
     "output_type": "stream",
     "text": [
      "Generated Sample Mean: 0.027274046949496828\n",
      "Generated Sample Variance: 0.9420606896540381\n"
     ]
    }
   ],
   "source": [
    "# Generate 1000 samples\n",
    "samples = generate_function(g1, -10, 10, 1000)\n",
    "\n",
    "mean_sample = sum(samples) / len(samples)\n",
    "variance_sample = sum((x - mean_sample) ** 2 for x in samples) / len(samples)\n",
    "\n",
    "print(\"Generated Sample Mean:\", mean_sample)\n",
    "print(\"Generated Sample Variance:\", variance_sample)"
   ]
  },
  {
   "cell_type": "markdown",
   "metadata": {},
   "source": [
    "*Exercise 9:* Combine your `generate_function`, `where`, and `in_range` functions above to create an integrate function. Use your integrate function to show that approximately 68% of Normal distribution is within one variance."
   ]
  },
  {
   "cell_type": "code",
   "execution_count": 30,
   "metadata": {},
   "outputs": [],
   "source": [
    "def integrate(func, x_min, x_max, n_points=1000):\n",
    "    samples = generate_function(func, x_min, x_max, n_points)\n",
    "    # Define the range within one stdev\n",
    "    condition = in_range(mean - sigma, mean + sigma)\n",
    "    \n",
    "    count_within_range = len(where(samples, condition))\n",
    "    # Approximate the integral (area under the curve)\n",
    "    integral = count_within_range / len(samples)\n",
    "    \n",
    "    return integral  #integral = area under the curve\n",
    "    \n",
    "    return integral\n"
   ]
  },
  {
   "cell_type": "code",
   "execution_count": 32,
   "metadata": {},
   "outputs": [
    {
     "name": "stdout",
     "output_type": "stream",
     "text": [
      "Approximate area under the curve within one degree pf standard deviation: 0.679\n"
     ]
    }
   ],
   "source": [
    "#test\n",
    "mean = 0\n",
    "sigma = 1\n",
    "g1 = gaussian(mean, sigma)\n",
    "# Perform integration \n",
    "area = integrate(g1, mean - 4 * sigma, mean + 4 * sigma)  # Wider range to ensure coverage\n",
    "\n",
    "print(\"Approximate area under the curve within one degree pf standard deviation:\", area)"
   ]
  },
  {
   "cell_type": "markdown",
   "metadata": {},
   "source": [
    "## Here we see the approximate area under the curve within one degree of standard deviation is around 67.9%"
   ]
  },
  {
   "cell_type": "code",
   "execution_count": null,
   "metadata": {},
   "outputs": [],
   "source": []
  }
 ],
 "metadata": {
  "kernelspec": {
   "display_name": "Python 3 (ipykernel)",
   "language": "python",
   "name": "python3"
  },
  "language_info": {
   "codemirror_mode": {
    "name": "ipython",
    "version": 3
   },
   "file_extension": ".py",
   "mimetype": "text/x-python",
   "name": "python",
   "nbconvert_exporter": "python",
   "pygments_lexer": "ipython3",
   "version": "3.11.5"
  }
 },
 "nbformat": 4,
 "nbformat_minor": 2
}
